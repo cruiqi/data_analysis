{
 "cells": [
  {
   "cell_type": "code",
   "execution_count": 26,
   "metadata": {},
   "outputs": [
    {
     "name": "stdout",
     "output_type": "stream",
     "text": [
      "属性信息:\n",
      "Index(['id', 'date', 'price', 'bedrooms', 'bathrooms', 'sqft_living',\n",
      "       'sqft_lot', 'floors', 'waterfront', 'view', 'condition', 'grade',\n",
      "       'sqft_above', 'sqft_basement', 'yr_built', 'yr_renovated', 'zipcode',\n",
      "       'lat', 'long', 'sqft_living15', 'sqft_lot15'],\n",
      "      dtype='object')\n",
      "\n",
      "描述信息:\n",
      "                 id         price      bedrooms     bathrooms   sqft_living  \\\n",
      "count  2.161300e+04  2.161300e+04  21613.000000  21613.000000  21613.000000   \n",
      "mean   4.580302e+09  5.400881e+05      3.370842      2.114757   2079.899736   \n",
      "std    2.876566e+09  3.671272e+05      0.930062      0.770163    918.440897   \n",
      "min    1.000102e+06  7.500000e+04      0.000000      0.000000    290.000000   \n",
      "25%    2.123049e+09  3.219500e+05      3.000000      1.750000   1427.000000   \n",
      "50%    3.904930e+09  4.500000e+05      3.000000      2.250000   1910.000000   \n",
      "75%    7.308900e+09  6.450000e+05      4.000000      2.500000   2550.000000   \n",
      "max    9.900000e+09  7.700000e+06     33.000000      8.000000  13540.000000   \n",
      "\n",
      "           sqft_lot        floors    waterfront          view     condition  \\\n",
      "count  2.161300e+04  21613.000000  21613.000000  21613.000000  21613.000000   \n",
      "mean   1.510697e+04      1.494309      0.007542      0.234303      3.409430   \n",
      "std    4.142051e+04      0.539989      0.086517      0.766318      0.650743   \n",
      "min    5.200000e+02      1.000000      0.000000      0.000000      1.000000   \n",
      "25%    5.040000e+03      1.000000      0.000000      0.000000      3.000000   \n",
      "50%    7.618000e+03      1.500000      0.000000      0.000000      3.000000   \n",
      "75%    1.068800e+04      2.000000      0.000000      0.000000      4.000000   \n",
      "max    1.651359e+06      3.500000      1.000000      4.000000      5.000000   \n",
      "\n",
      "              grade    sqft_above  sqft_basement      yr_built  yr_renovated  \\\n",
      "count  21613.000000  21611.000000   21613.000000  21613.000000  21613.000000   \n",
      "mean       7.656873   1788.396095     291.509045   1971.005136     84.402258   \n",
      "std        1.175459    828.128162     442.575043     29.373411    401.679240   \n",
      "min        1.000000    290.000000       0.000000   1900.000000      0.000000   \n",
      "25%        7.000000   1190.000000       0.000000   1951.000000      0.000000   \n",
      "50%        7.000000   1560.000000       0.000000   1975.000000      0.000000   \n",
      "75%        8.000000   2210.000000     560.000000   1997.000000      0.000000   \n",
      "max       13.000000   9410.000000    4820.000000   2015.000000   2015.000000   \n",
      "\n",
      "            zipcode           lat          long  sqft_living15     sqft_lot15  \n",
      "count  21613.000000  21613.000000  21613.000000   21613.000000   21613.000000  \n",
      "mean   98077.939805     47.560053   -122.213896    1986.552492   12768.455652  \n",
      "std       53.505026      0.138564      0.140828     685.391304   27304.179631  \n",
      "min    98001.000000     47.155900   -122.519000     399.000000     651.000000  \n",
      "25%    98033.000000     47.471000   -122.328000    1490.000000    5100.000000  \n",
      "50%    98065.000000     47.571800   -122.230000    1840.000000    7620.000000  \n",
      "75%    98118.000000     47.678000   -122.125000    2360.000000   10083.000000  \n",
      "max    98199.000000     47.777600   -121.315000    6210.000000  871200.000000  \n"
     ]
    }
   ],
   "source": [
    "import pandas as pd\n",
    "df=pd.read_csv('../dt/kc_house_data.csv',encoding='utf8')\n",
    "\n",
    "# 输出属性信息（列名）\n",
    "print(\"属性信息:\")\n",
    "print(df.columns)\n",
    "\n",
    "# 输出描述信息（包括计数、平均值、标准差、最小值、四分位数、最大值等统计信息）\n",
    "print(\"\\n描述信息:\")\n",
    "print(df.describe())"
   ]
  },
  {
   "cell_type": "code",
   "execution_count": 27,
   "metadata": {},
   "outputs": [
    {
     "name": "stdout",
     "output_type": "stream",
     "text": [
      "           id             date     price  bedrooms  bathrooms  sqft_living  \\\n",
      "0  7129300520  20141013T000000  221900.0         3       1.00         1180   \n",
      "1  6414100192  20141209T000000  538000.0         3       2.25         2570   \n",
      "2  5631500400  20150225T000000  180000.0         2       1.00          770   \n",
      "3  2487200875  20141209T000000  604000.0         4       3.00         1960   \n",
      "4  1954400510  20150218T000000  510000.0         3       2.00         1680   \n",
      "\n",
      "   sqft_lot  floors  waterfront  view  ...  grade  sqft_above  sqft_basement  \\\n",
      "0      5650     1.0           0     0  ...      7      1180.0              0   \n",
      "1      7242     2.0           0     0  ...      7      2170.0            400   \n",
      "2     10000     1.0           0     0  ...      6       770.0              0   \n",
      "3      5000     1.0           0     0  ...      7      1050.0            910   \n",
      "4      8080     1.0           0     0  ...      8      1680.0              0   \n",
      "\n",
      "   yr_built  yr_renovated  zipcode      lat     long  sqft_living15  \\\n",
      "0      1955             0    98178  47.5112 -122.257           1340   \n",
      "1      1951          1991    98125  47.7210 -122.319           1690   \n",
      "2      1933             0    98028  47.7379 -122.233           2720   \n",
      "3      1965             0    98136  47.5208 -122.393           1360   \n",
      "4      1987             0    98074  47.6168 -122.045           1800   \n",
      "\n",
      "   sqft_lot15  \n",
      "0        5650  \n",
      "1        7639  \n",
      "2        8062  \n",
      "3        5000  \n",
      "4        7503  \n",
      "\n",
      "[5 rows x 21 columns]\n"
     ]
    }
   ],
   "source": [
    "#输出前五行\n",
    "print(df.head())"
   ]
  },
  {
   "cell_type": "code",
   "execution_count": 28,
   "metadata": {},
   "outputs": [
    {
     "name": "stdout",
     "output_type": "stream",
     "text": [
      "缺失值统计：\n",
      "id               0\n",
      "date             0\n",
      "price            0\n",
      "bedrooms         0\n",
      "bathrooms        0\n",
      "sqft_living      0\n",
      "sqft_lot         0\n",
      "floors           0\n",
      "waterfront       0\n",
      "view             0\n",
      "condition        0\n",
      "grade            0\n",
      "sqft_above       2\n",
      "sqft_basement    0\n",
      "yr_built         0\n",
      "yr_renovated     0\n",
      "zipcode          0\n",
      "lat              0\n",
      "long             0\n",
      "sqft_living15    0\n",
      "sqft_lot15       0\n",
      "dtype: int64\n"
     ]
    }
   ],
   "source": [
    "#2)\t查看缺失值情况\n",
    "\n",
    "# 查看缺失值\n",
    "missing_values = df.isnull().sum()\n",
    "print(\"缺失值统计：\")\n",
    "print(missing_values)"
   ]
  },
  {
   "cell_type": "code",
   "execution_count": 58,
   "metadata": {},
   "outputs": [
    {
     "name": "stdout",
     "output_type": "stream",
     "text": [
      "训练集特征形状: (15129, 19)\n",
      "训练集目标变量形状: (15129,)\n",
      "测试集特征形状: (6484, 19)\n",
      "测试集目标变量形状: (6484,)\n"
     ]
    }
   ],
   "source": [
    "#3)\t数据集划分，test_size设置为0.3，截图\n",
    "from sklearn.model_selection import train_test_split\n",
    "\n",
    "target = df.columns[-1]  # 获取最后一列作为目标变量\n",
    "features = df.columns[:-1]  # 获取除最后一列外的所有列作为特征\n",
    "\n",
    "non_numeric_columns = df.select_dtypes(exclude=np.number).columns.tolist()\n",
    "\n",
    "#移除非数值列\n",
    "numeric_df = df.drop(columns=non_numeric_columns)\n",
    "\n",
    "#重新分割数据集（假设之前的操作是基于原始df进行的）\n",
    "X = numeric_df.drop(columns=[target])  # target目标变量列名\n",
    "y = numeric_df[target]\n",
    "\n",
    "#使用train_test_split函数进行数据集划分，test_size=0.3表示测试集占30%\n",
    "X_train, X_test, y_train, y_test = train_test_split(X, y, test_size=0.3, random_state=42)\n",
    "\n",
    "#打印数据集划分的形状，确认划分结果\n",
    "print(\"训练集特征形状:\", X_train.shape)\n",
    "print(\"训练集目标变量形状:\", y_train.shape)\n",
    "print(\"测试集特征形状:\", X_test.shape)\n",
    "print(\"测试集目标变量形状:\", y_test.shape)"
   ]
  },
  {
   "cell_type": "code",
   "execution_count": 59,
   "metadata": {},
   "outputs": [
    {
     "name": "stdout",
     "output_type": "stream",
     "text": [
      "训练集标准化后特征的均值: [ 1.14596092e-16 -1.36200273e-16  9.86277841e-17  9.95670963e-17\n",
      "  1.37139585e-16 -2.25434935e-17 -1.61796531e-16  8.45381006e-18\n",
      " -1.87862446e-17  1.39018210e-16 -2.28018044e-16             nan\n",
      "  2.01952129e-17 -1.38924279e-15  3.33455841e-17  8.56934547e-14\n",
      " -5.86412625e-15  5.82138754e-15 -8.73560373e-17]\n",
      "训练集标准化后特征的标准差: [ 1.  1.  1.  1.  1.  1.  1.  1.  1.  1.  1. nan  1.  1.  1.  1.  1.  1.\n",
      "  1.]\n"
     ]
    }
   ],
   "source": [
    "from sklearn.preprocessing import StandardScaler\n",
    "import numpy as np\n",
    "non_numeric_columns = df.select_dtypes(exclude=np.number).columns.tolist()\n",
    "\n",
    "#移除非数值列\n",
    "numeric_df = df.drop(columns=non_numeric_columns)\n",
    "\n",
    "#重新分割数据集（假设之前的操作是基于原始df进行的）\n",
    "X = numeric_df.drop(columns=[target])  # target是目标变量列名\n",
    "y = numeric_df[target]\n",
    "\n",
    "#之后继续进行标准化操作\n",
    "scaler = StandardScaler()\n",
    "X_train, X_test, y_train, y_test = train_test_split(X, y, test_size=0.3, random_state=42)\n",
    "X_train_std = scaler.fit_transform(X_train)\n",
    "X_test_std = scaler.transform(X_test)\n",
    "\n",
    "#打印标准化后数据的均值和标准差，确认标准化效果\n",
    "print(\"训练集标准化后特征的均值:\", X_train_std.mean(axis=0))\n",
    "print(\"训练集标准化后特征的标准差:\", X_train_std.std(axis=0)) "
   ]
  },
  {
   "cell_type": "code",
   "execution_count": 62,
   "metadata": {},
   "outputs": [
    {
     "name": "stdout",
     "output_type": "stream",
     "text": [
      "训练集结果：\n",
      "MSE: 347907003.07598066\n",
      "R²: 0.5334698477636073\n",
      "\n",
      "测试集结果：\n",
      "MSE: 348067013.2850686\n",
      "R²: 0.5327194800299111\n"
     ]
    }
   ],
   "source": [
    "#5)\t采用线性回归建立回归模型，打印模型评分结果\n",
    "from sklearn.linear_model import LinearRegression\n",
    "from sklearn.metrics import mean_squared_error, r2_score\n",
    "from sklearn.impute import SimpleImputer\n",
    "\n",
    "# 初始化一个imputer来处理缺失值，这里使用均值填充\n",
    "imputer = SimpleImputer(strategy='mean')\n",
    "\n",
    "# 对标准化后的训练集和测试集数据进行缺失值填充\n",
    "X_train_std_imputed = imputer.fit_transform(X_train_std)\n",
    "X_test_std_imputed = imputer.transform(X_test_std)\n",
    "\n",
    "# 初始化线性回归模型\n",
    "lr = LinearRegression()\n",
    "\n",
    "# 使用处理后的标准化训练数据训练模型\n",
    "lr.fit(X_train_std_imputed, y_train)\n",
    "\n",
    "# 预测训练集和测试集的结果\n",
    "y_train_pred = lr.predict(X_train_std_imputed)\n",
    "y_test_pred = lr.predict(X_test_std_imputed)\n",
    "\n",
    "# 计算并打印训练集和测试集的MSE（均方误差）和R²（决定系数）评分\n",
    "print(\"训练集结果：\")\n",
    "print(\"MSE:\", mean_squared_error(y_train, y_train_pred))\n",
    "print(\"R²:\", r2_score(y_train, y_train_pred))\n",
    "\n",
    "print(\"\\n测试集结果：\")\n",
    "print(\"MSE:\", mean_squared_error(y_test, y_test_pred))\n",
    "print(\"R²:\", r2_score(y_test, y_test_pred))"
   ]
  },
  {
   "cell_type": "code",
   "execution_count": null,
   "metadata": {},
   "outputs": [],
   "source": []
  }
 ],
 "metadata": {
  "kernelspec": {
   "display_name": "Python 3",
   "language": "python",
   "name": "py35-paddle1.2.0"
  },
  "language_info": {
   "codemirror_mode": {
    "name": "ipython",
    "version": 3
   },
   "file_extension": ".py",
   "mimetype": "text/x-python",
   "name": "python",
   "nbconvert_exporter": "python",
   "pygments_lexer": "ipython3",
   "version": "3.10.10"
  },
  "orig_nbformat": 4
 },
 "nbformat": 4,
 "nbformat_minor": 2
}
