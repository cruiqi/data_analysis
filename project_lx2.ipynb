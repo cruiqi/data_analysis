{
 "cells": [
  {
   "cell_type": "code",
   "execution_count": 26,
   "metadata": {},
   "outputs": [
    {
     "name": "stdout",
     "output_type": "stream",
     "text": [
      "0    a\n",
      "1    b\n",
      "2    c\n",
      "3    d\n",
      "dtype: object \n",
      "\n",
      "a    0.0\n",
      "b    1.0\n",
      "c    2.0\n",
      "dtype: float64\n",
      "\n",
      "           A         B         C         D\n",
      "0 -0.187160 -0.100597 -1.205335  0.654190\n",
      "1  0.666495  1.014256 -2.112572  0.198527\n",
      "2 -0.412037  0.215168  2.706994  0.692147\n",
      "3  0.048851 -1.528333 -1.530478 -0.470729\n",
      "4  0.568497  0.573357 -0.489107 -1.754290\n",
      "5  0.141523  1.182714  0.164567 -0.727051\n",
      "6 -0.786473 -1.042042  0.966375  2.194778\n"
     ]
    }
   ],
   "source": [
    "import numpy as np\n",
    "import pandas as pd\n",
    "\n",
    "# 2)\t创建Series和DataFrame\n",
    "data = np.array(['a','b','c','d'])\n",
    "s = pd.Series(data)\n",
    "print(s,'\\n')\n",
    "data1 = {'a':0.,'b':1.,'c':2.}\n",
    "s1 = pd.Series(data1)\n",
    "print(s1)\n",
    "\n",
    "df = pd.DataFrame(np.random.randn(7,4),columns=list('ABCD'))\n",
    "print('\\n',df)"
   ]
  },
  {
   "cell_type": "code",
   "execution_count": 27,
   "metadata": {},
   "outputs": [
    {
     "name": "stdout",
     "output_type": "stream",
     "text": [
      "     A                             B    C  D      E    F\n",
      "0  1.0 1970-01-01 00:00:00.002190102  1.0  3   test  foo\n",
      "1  1.0 1970-01-01 00:00:00.002190102  1.0  3  train  foo\n",
      "2  1.0 1970-01-01 00:00:00.002190102  1.0  3   test  foo\n",
      "3  1.0 1970-01-01 00:00:00.002190102  1.0  3  train  foo\n"
     ]
    }
   ],
   "source": [
    "df1 = pd.DataFrame({'A':1.,\n",
    "                    'B':pd.Timestamp(2190102),\n",
    "                    'C':pd.Series(1,index=list(range(4)),dtype='float32'),\n",
    "                    'D':np.array([3] * 4,dtype='int32'),\n",
    "                    'E':pd.Categorical(['test','train','test','train']),\n",
    "                    'F':'foo'})\n",
    "print(df1)"
   ]
  },
  {
   "cell_type": "code",
   "execution_count": 28,
   "metadata": {},
   "outputs": [
    {
     "name": "stdout",
     "output_type": "stream",
     "text": [
      "    A   B   C   D   E\n",
      "a   0   1   2   3   4\n",
      "b   5   6   7   8   9\n",
      "c  10  11  12  13  14\n",
      "d  15  16  17  18  19\n",
      "e  20  21  22  23  24\n",
      "f  25  26  27  28  29\n",
      "--------------------\n",
      "    A   B   C   D   E\n",
      "a   0   1   2   3   4\n",
      "b   5   6   7   8   9\n",
      "c  10  11  12  13  14\n",
      "d  15  16  17  18  19\n",
      "e  20  21  22  23  24\n",
      "--------------------\n",
      "    A   B   C   D   E\n",
      "d  15  16  17  18  19\n",
      "e  20  21  22  23  24\n",
      "f  25  26  27  28  29\n"
     ]
    }
   ],
   "source": [
    "# 3)\tDataFrame数据的操作\n",
    "# a. 查看顶部和底部的数据\n",
    "data2 = np.arange(30).reshape(6,5)\n",
    "df2 = pd.DataFrame(data2,index=['a','b','c','d','e','f'],columns=['A','B','C','D','E'])\n",
    "print(df2)\n",
    "print(\"--\" * 10)\n",
    "print(df2.head())\n",
    "print(\"--\" * 10)\n",
    "print(df2.tail(3))"
   ]
  },
  {
   "cell_type": "code",
   "execution_count": 30,
   "metadata": {},
   "outputs": [
    {
     "name": "stdout",
     "output_type": "stream",
     "text": [
      "index is :\n",
      "Index(['a', 'b', 'c', 'd', 'e', 'f'], dtype='object')\n",
      "columns is :\n",
      "Index(['A', 'B', 'C', 'D', 'E'], dtype='object')\n",
      "values is :\n",
      "[[ 0  1  2  3  4]\n",
      " [ 5  6  7  8  9]\n",
      " [10 11 12 13 14]\n",
      " [15 16 17 18 19]\n",
      " [20 21 22 23 24]\n",
      " [25 26 27 28 29]]\n"
     ]
    }
   ],
   "source": [
    "# b.显示索引，列和数据\n",
    "print(\"index is :\")\n",
    "print(df2.index)\n",
    "print(\"columns is :\")\n",
    "print(df2.columns)\n",
    "print(\"values is :\")\n",
    "print(df2.values)"
   ]
  },
  {
   "cell_type": "code",
   "execution_count": 34,
   "metadata": {},
   "outputs": [
    {
     "name": "stdout",
     "output_type": "stream",
     "text": [
      "a     0\n",
      "c    10\n",
      "e    20\n",
      "Name: A, dtype: int64\n",
      "<bound method NDFrame.describe of     A   B   C   D   E\n",
      "a   0   1   2   3   4\n",
      "b   5   6   7   8   9\n",
      "c  10  11  12  13  14\n",
      "d  15  16  17  18  19\n",
      "e  20  21  22  23  24\n",
      "f  25  26  27  28  29>\n"
     ]
    }
   ],
   "source": [
    "# c. 使用loc方法，根据列名对相关索引进行切片，得到想要访问的数据\n",
    "print(df2.loc['a':'f':2,'A'])\n",
    "# d. 查看数据的详细信息\n",
    "print(df2.describe)"
   ]
  },
  {
   "cell_type": "code",
   "execution_count": 35,
   "metadata": {},
   "outputs": [
    {
     "name": "stdout",
     "output_type": "stream",
     "text": [
      "-------原始数据df-----\n",
      "    A   B   C   D   E\n",
      "a   0   1   2   3   4\n",
      "b   5   6   7   8   9\n",
      "c  10  11  12  13  14\n",
      "d  15  16  17  18  19\n",
      "e  20  21  22  23  24\n",
      "f  25  26  27  28  29\n",
      "--------删除行--------\n",
      "    A   B   C   D   E\n",
      "b   5   6   7   8   9\n",
      "c  10  11  12  13  14\n",
      "d  15  16  17  18  19\n",
      "e  20  21  22  23  24\n",
      "f  25  26  27  28  29\n",
      "--------删除列--------\n",
      "    B   C   D   E\n",
      "a   1   2   3   4\n",
      "b   6   7   8   9\n",
      "c  11  12  13  14\n",
      "d  16  17  18  19\n",
      "e  21  22  23  24\n",
      "f  26  27  28  29\n"
     ]
    }
   ],
   "source": [
    "# 4)\tDataFrame数据的操作\n",
    "# a.使用drop方法删除不需要的列或行\n",
    "data3 = np.arange(30).reshape(6,5)\n",
    "df3 = pd.DataFrame(data3,index=['a','b','c','d','e','f'],columns = ['A','B','C','D','E'])\n",
    "a = df3.drop(['a'],axis=0)\n",
    "b = df3.drop(['A'],axis=1)\n",
    "print('-------原始数据df-----')\n",
    "print(df3)\n",
    "print('--------删除行--------')\n",
    "print(a)\n",
    "print('--------删除列--------')\n",
    "print(b)"
   ]
  },
  {
   "cell_type": "code",
   "execution_count": 41,
   "metadata": {},
   "outputs": [
    {
     "name": "stdout",
     "output_type": "stream",
     "text": [
      "    B   C   D   E\n",
      "a   1   2   3   4\n",
      "b   6   7   8   9\n",
      "c  11  12  13  14\n",
      "d  16  17  18  19\n",
      "e  21  22  23  24\n",
      "f  26  27  28  29\n",
      "----合并后的数据-----\n",
      "    B   C   D   E     A\n",
      "a   1   2   3   4   NaN\n",
      "b   6   7   8   9   NaN\n",
      "c  11  12  13  14   NaN\n",
      "d  16  17  18  19   NaN\n",
      "e  21  22  23  24   NaN\n",
      "f  26  27  28  29   NaN\n",
      "b   6   7   8   9   5.0\n",
      "c  11  12  13  14  10.0\n",
      "d  16  17  18  19  15.0\n",
      "e  21  22  23  24  20.0\n",
      "f  26  27  28  29  25.0\n"
     ]
    }
   ],
   "source": [
    "# b. 使用append方法合并两个DataFrame\n",
    "c = b.append(a)\n",
    "print(b)\n",
    "print('----合并后的数据-----')\n",
    "print(c)"
   ]
  },
  {
   "cell_type": "code",
   "execution_count": 40,
   "metadata": {},
   "outputs": [
    {
     "name": "stdout",
     "output_type": "stream",
     "text": [
      "        one       two     there\n",
      "a  1.225337 -0.634983 -1.841215\n",
      "b       NaN       NaN       NaN\n",
      "c -0.259550  0.581526  0.489232\n",
      "d       NaN       NaN       NaN\n",
      "e -0.127961  0.964353  1.708543\n",
      "f  0.302743  0.946849 -0.531337\n",
      "g       NaN       NaN       NaN\n",
      "h -1.233125 -0.284156 -0.370522\n",
      "------------------------------\n",
      "        one       two     there\n",
      "a  1.225337 -0.634983 -1.841215\n",
      "c -0.259550  0.581526  0.489232\n",
      "e -0.127961  0.964353  1.708543\n",
      "f  0.302743  0.946849 -0.531337\n",
      "h -1.233125 -0.284156 -0.370522\n"
     ]
    }
   ],
   "source": [
    "# c. 删除带有NaN的数据\n",
    "df10 = pd.DataFrame(np.random.randn(5,3),index=['a','c','e','f','h'],columns=['one','two','there'])\n",
    "df10 = df10.reindex(['a','b','c','d','e','f','g','h'])\n",
    "print(df10)\n",
    "print(\"---\"*10)\n",
    "print(df10.dropna())\n"
   ]
  }
 ],
 "metadata": {
  "kernelspec": {
   "display_name": "Python 3.10.10 ('python35-paddle120-env')",
   "language": "python",
   "name": "python3"
  },
  "language_info": {
   "codemirror_mode": {
    "name": "ipython",
    "version": 3
   },
   "file_extension": ".py",
   "mimetype": "text/x-python",
   "name": "python",
   "nbconvert_exporter": "python",
   "pygments_lexer": "ipython3",
   "version": "3.7.4"
  },
  "orig_nbformat": 4,
  "vscode": {
   "interpreter": {
    "hash": "09f0dbf7b1569c1ab842ae2f41770fe6aa1b54326d081112fa5944b99abb5899"
   }
  }
 },
 "nbformat": 4,
 "nbformat_minor": 2
}
