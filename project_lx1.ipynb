{
 "cells": [
  {
   "cell_type": "code",
   "execution_count": 2,
   "metadata": {},
   "outputs": [
    {
     "name": "stdout",
     "output_type": "stream",
     "text": [
      "[[0. 0.]\n",
      " [0. 0.]] \n",
      "\n",
      "[[1. 1.]\n",
      " [1. 1.]] \n",
      "\n",
      "[[1. 0.]\n",
      " [0. 1.]] \n",
      "\n",
      "[[6.91885742e-310 6.91885742e-310 8.68157627e-169]\n",
      " [3.55701425e-106 2.33321764e-101 7.09714276e-164]\n",
      " [7.96563159e-063 1.16726736e-120 1.04156469e-144]] \n",
      "\n",
      "[[6 6 6]\n",
      " [6 6 6]\n",
      " [6 6 6]] \n",
      "\n",
      "[  0.          11.11111111  22.22222222  33.33333333  44.44444444\n",
      "  55.55555556  66.66666667  77.77777778  88.88888889 100.        ]\n"
     ]
    }
   ],
   "source": [
    "import numpy as np\n",
    "# 1) 数组操作\n",
    "print(np.zeros([2,2]),'\\n')\n",
    "print(np.ones([2,2]),'\\n')\n",
    "print(np.eye(2),'\\n')\n",
    "print(np.empty([3,3]),'\\n')\n",
    "print(np.full([3,3],6),'\\n')\n",
    "print(np.linspace(0,100,10))"
   ]
  },
  {
   "cell_type": "code",
   "execution_count": 3,
   "metadata": {},
   "outputs": [
    {
     "name": "stdout",
     "output_type": "stream",
     "text": [
      "(3,)\n",
      "3\n",
      "5 2 3\n",
      "1 2 4\n"
     ]
    }
   ],
   "source": [
    "a = np.array([1,2,3])\n",
    "print(a.shape)\n",
    "print(a.size)\n",
    "a[0] = 5\n",
    "print(a[0],a[1],a[2])\n",
    "b = np.array([[1,2,3],[4,5,6]])\n",
    "print(b[0,0],b[0,1],b[1,0])"
   ]
  },
  {
   "cell_type": "code",
   "execution_count": 4,
   "metadata": {},
   "outputs": [
    {
     "name": "stdout",
     "output_type": "stream",
     "text": [
      "float64\n",
      "int32\n"
     ]
    }
   ],
   "source": [
    "# 2)\t数组内元素指定不同数据类型\n",
    "arr1 = np.array([1,2,3],dtype=np.float64)\n",
    "arr2 = np.array([1,2,3],dtype=np.int32)\n",
    "print(arr1.dtype)\n",
    "print(arr2.dtype)"
   ]
  },
  {
   "cell_type": "code",
   "execution_count": 5,
   "metadata": {},
   "outputs": [
    {
     "name": "stdout",
     "output_type": "stream",
     "text": [
      "[  0   1   2   3   4   5 999   7   8   9]\n",
      "[ 0  1  2  3  4 14 14 14  8  9]\n",
      "[[-3.   2.   0.  -1. ]\n",
      " [ 2.5  1.7 -0.2  1. ]]\n",
      "[[ 0.  -1. ]\n",
      " [-0.2  1. ]]\n"
     ]
    }
   ],
   "source": [
    "# 3)  使用索引和切片的方式获取和修改数据\n",
    "arr = np.arange(10)\n",
    "arr_slice = arr[5:8]\n",
    "arr_slice[1] = 999\n",
    "print(arr)\n",
    "arr_slice[:]=14\n",
    "print(arr)\n",
    "names = np.array(['Bob','Will','Bob','Joe'])\n",
    "data = np.array([[-3,2,0,-1],[1,2,3,-4],[2.5,1.7,-0.2,1],[-8,-4,9,10]])\n",
    "print(data[names=='Bob'])\n",
    "print(data[names=='Bob',2:])"
   ]
  },
  {
   "cell_type": "code",
   "execution_count": 6,
   "metadata": {},
   "outputs": [
    {
     "name": "stdout",
     "output_type": "stream",
     "text": [
      "arr3: [[ 0  1  2  3  4]\n",
      " [ 5  6  7  8  9]\n",
      " [10 11 12 13 14]\n",
      " [15 16 17 18 19]]\n",
      "arr的平均值 9.5\n",
      "arr的和 190\n",
      "arr的每行的平均值 [ 2.  7. 12. 17.]\n",
      "arr的每列的和 [30 34 38 42 46]\n"
     ]
    }
   ],
   "source": [
    "# 4)\tNumPy中内置的一些常用的统计方法\n",
    "arr3 = np.arange(20).reshape((4,5))\n",
    "print(\"arr3:\",arr3)\n",
    "print('arr的平均值',arr3.mean())\n",
    "print('arr的和',arr3.sum())\n",
    "print('arr的每行的平均值',arr3.mean(1))\n",
    "print('arr的每列的和',arr3.sum(0))"
   ]
  }
 ],
 "metadata": {
  "kernelspec": {
   "display_name": "Python 3.10.10 ('python35-paddle120-env')",
   "language": "python",
   "name": "python3"
  },
  "language_info": {
   "codemirror_mode": {
    "name": "ipython",
    "version": 3
   },
   "file_extension": ".py",
   "mimetype": "text/x-python",
   "name": "python",
   "nbconvert_exporter": "python",
   "pygments_lexer": "ipython3",
   "version": "3.7.4"
  },
  "orig_nbformat": 4,
  "vscode": {
   "interpreter": {
    "hash": "09f0dbf7b1569c1ab842ae2f41770fe6aa1b54326d081112fa5944b99abb5899"
   }
  }
 },
 "nbformat": 4,
 "nbformat_minor": 2
}
